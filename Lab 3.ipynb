{
  "nbformat": 4,
  "nbformat_minor": 0,
  "metadata": {
    "colab": {
      "provenance": [],
      "authorship_tag": "ABX9TyN5fHMr0g6+kyreuwM9M7NK",
      "include_colab_link": true
    },
    "kernelspec": {
      "name": "python3",
      "display_name": "Python 3"
    },
    "language_info": {
      "name": "python"
    }
  },
  "cells": [
    {
      "cell_type": "markdown",
      "metadata": {
        "id": "view-in-github",
        "colab_type": "text"
      },
      "source": [
        "<a href=\"https://colab.research.google.com/github/Aneesabbasi19/Ai-lab-Tasks/blob/main/Lab%203.ipynb\" target=\"_parent\"><img src=\"https://colab.research.google.com/assets/colab-badge.svg\" alt=\"Open In Colab\"/></a>"
      ]
    },
    {
      "cell_type": "markdown",
      "source": [
        "1.\tAccess List Items:\n",
        "•\tCreate a list of fruits.\n",
        "•\tPrint the first and last items of the list.\n",
        "\n"
      ],
      "metadata": {
        "id": "WQtdDglm5ih0"
      }
    },
    {
      "cell_type": "code",
      "source": [
        "# Access List Items\n",
        "fruits = [\"apple\", \"banana\", \"orange\", \"grape\", \"kiwi\"]\n",
        "print(\"First item:\", fruits[0])\n",
        "print(\"Last item:\", fruits[-1])\n"
      ],
      "metadata": {
        "colab": {
          "base_uri": "https://localhost:8080/"
        },
        "id": "cdENKwrW4r1-",
        "outputId": "da37ecee-7d48-4811-ef73-b331087978a9"
      },
      "execution_count": 2,
      "outputs": [
        {
          "output_type": "stream",
          "name": "stdout",
          "text": [
            "First item: apple\n",
            "Last item: kiwi\n"
          ]
        }
      ]
    },
    {
      "cell_type": "markdown",
      "source": [
        "2.\tChange List Items:\n",
        "•\tCreate a list of colors.\n",
        "•\tChange the second item in the list to \"blue\".\n",
        "\n"
      ],
      "metadata": {
        "id": "5iM1YzDO5lYy"
      }
    },
    {
      "cell_type": "code",
      "source": [
        "# Change List Items\n",
        "colors = [\"red\", \"green\", \"yellow\", \"purple\"]\n",
        "colors[1] = \"blue\"\n",
        "print(\"Updated colors:\", colors)\n"
      ],
      "metadata": {
        "colab": {
          "base_uri": "https://localhost:8080/"
        },
        "id": "ljENecrH4sqg",
        "outputId": "5d6b83a7-ddfe-4c24-84d3-71f83379b878"
      },
      "execution_count": 3,
      "outputs": [
        {
          "output_type": "stream",
          "name": "stdout",
          "text": [
            "Updated colors: ['red', 'blue', 'yellow', 'purple']\n"
          ]
        }
      ]
    },
    {
      "cell_type": "markdown",
      "source": [
        "3.\tAdd List Items:\n",
        "•\tCreate a list of numbers.\n",
        "•\tAdd the number 10 at the end of the list.\n"
      ],
      "metadata": {
        "id": "9mjbB_jb5oBs"
      }
    },
    {
      "cell_type": "code",
      "source": [
        "# Add List Items\n",
        "numbers = [1, 2, 3, 4, 5]\n",
        "numbers.append(10)\n",
        "print(\"Updated numbers:\", numbers)\n"
      ],
      "metadata": {
        "colab": {
          "base_uri": "https://localhost:8080/"
        },
        "id": "rU2iRDC-4vBR",
        "outputId": "c70c136c-a040-4343-f288-d674b80c6a23"
      },
      "execution_count": 4,
      "outputs": [
        {
          "output_type": "stream",
          "name": "stdout",
          "text": [
            "Updated numbers: [1, 2, 3, 4, 5, 10]\n"
          ]
        }
      ]
    },
    {
      "cell_type": "markdown",
      "source": [
        "4.\tRemove List Items:\n",
        "•\tCreate a list of animals.\n",
        "•\tRemove the third item from the list.\n",
        "\n"
      ],
      "metadata": {
        "id": "b_yZBTEC5rRV"
      }
    },
    {
      "cell_type": "code",
      "source": [
        "# Remove List Items\n",
        "animals = [\"dog\", \"cat\", \"lion\", \"elephant\"]\n",
        "del animals[2]\n",
        "print(\"Updated animals:\", animals)\n"
      ],
      "metadata": {
        "colab": {
          "base_uri": "https://localhost:8080/"
        },
        "id": "dUQrIjxZ4xnX",
        "outputId": "fc9665ea-4c33-42ab-fb59-49e5cd7235e6"
      },
      "execution_count": 5,
      "outputs": [
        {
          "output_type": "stream",
          "name": "stdout",
          "text": [
            "Updated animals: ['dog', 'cat', 'elephant']\n"
          ]
        }
      ]
    },
    {
      "cell_type": "markdown",
      "source": [
        "5.\tLoop Lists:\n",
        "•\tCreate a list of cities.\n",
        "•\tLoop through the list and print each city.\n",
        "\n"
      ],
      "metadata": {
        "id": "F_yL0IwQ5uQO"
      }
    },
    {
      "cell_type": "code",
      "source": [
        "# Loop Lists\n",
        "cities = [\"New York\", \"London\", \"Paris\", \"Tokyo\"]\n",
        "for city in cities:\n",
        "    print(city)\n"
      ],
      "metadata": {
        "colab": {
          "base_uri": "https://localhost:8080/"
        },
        "id": "re7Mgzp-40Ig",
        "outputId": "f0d8e163-2ccf-4d58-fa8c-7a4692af35e1"
      },
      "execution_count": 6,
      "outputs": [
        {
          "output_type": "stream",
          "name": "stdout",
          "text": [
            "New York\n",
            "London\n",
            "Paris\n",
            "Tokyo\n"
          ]
        }
      ]
    },
    {
      "cell_type": "markdown",
      "source": [
        "6.\tList Comprehension:\n",
        "•\tCreate a list of numbers from 1 to 10.\n",
        "•\tUse list comprehension to create a new list containing the square of each number.\n",
        "\n"
      ],
      "metadata": {
        "id": "dgxqavDU5w0f"
      }
    },
    {
      "cell_type": "code",
      "source": [
        "# List Comprehension\n",
        "numbers = [i for i in range(1, 11)]\n",
        "squares = [num ** 2 for num in numbers]\n",
        "print(\"Squared numbers:\", squares)\n"
      ],
      "metadata": {
        "colab": {
          "base_uri": "https://localhost:8080/"
        },
        "id": "IzQ0tX9443Eh",
        "outputId": "c3f42f59-fc5a-4e1d-945e-c394f07df006"
      },
      "execution_count": 7,
      "outputs": [
        {
          "output_type": "stream",
          "name": "stdout",
          "text": [
            "Squared numbers: [1, 4, 9, 16, 25, 36, 49, 64, 81, 100]\n"
          ]
        }
      ]
    },
    {
      "cell_type": "markdown",
      "source": [
        "7.\tSort Lists:\n",
        "•\tCreate a list of names.\n",
        "•\tSort the list alphabetically.\n"
      ],
      "metadata": {
        "id": "_s_zzp2I6cyf"
      }
    },
    {
      "cell_type": "code",
      "source": [
        "# Sort Lists\n",
        "names = [\"Alice\", \"Bob\", \"Charlie\", \"David\"]\n",
        "names.sort()\n",
        "print(\"Sorted names:\", names)\n"
      ],
      "metadata": {
        "colab": {
          "base_uri": "https://localhost:8080/"
        },
        "id": "Ur2blHMx48DA",
        "outputId": "ca824581-ce94-4e5e-fbe3-5b8a9edd5dd6"
      },
      "execution_count": 8,
      "outputs": [
        {
          "output_type": "stream",
          "name": "stdout",
          "text": [
            "Sorted names: ['Alice', 'Bob', 'Charlie', 'David']\n"
          ]
        }
      ]
    },
    {
      "cell_type": "markdown",
      "source": [
        "8.\tCopy Lists:\n",
        "•\tCreate a list of fruits.\n",
        "•\tCopy the list into a new list.\n"
      ],
      "metadata": {
        "id": "QaE9gMuO6fzt"
      }
    },
    {
      "cell_type": "code",
      "source": [
        "# Copy Lists\n",
        "fruits = [\"apple\", \"banana\", \"orange\"]\n",
        "fruits_copy = fruits.copy()\n",
        "print(\"Copied list:\", fruits_copy)\n",
        "\n"
      ],
      "metadata": {
        "colab": {
          "base_uri": "https://localhost:8080/"
        },
        "id": "r0pUr3fy5A7b",
        "outputId": "793799d0-069c-41a8-8d8c-52d6ee48bbc5"
      },
      "execution_count": 9,
      "outputs": [
        {
          "output_type": "stream",
          "name": "stdout",
          "text": [
            "Copied list: ['apple', 'banana', 'orange']\n"
          ]
        }
      ]
    },
    {
      "cell_type": "markdown",
      "source": [
        "9.\tJoin Lists:\n",
        "•\tCreate two lists of numbers.\n",
        "•\tJoin the two lists into a single list.\n"
      ],
      "metadata": {
        "id": "r8eMnDDX6ie8"
      }
    },
    {
      "cell_type": "code",
      "source": [
        "# Join Lists\n",
        "list1 = [1, 2, 3]\n",
        "list2 = [4, 5, 6]\n",
        "combined_list = list1 + list2\n",
        "print(\"Combined list:\", combined_list)\n",
        "\n"
      ],
      "metadata": {
        "colab": {
          "base_uri": "https://localhost:8080/"
        },
        "id": "CTFOmQpR5Ebl",
        "outputId": "563b310f-6334-4a40-d016-a890bece7387"
      },
      "execution_count": 10,
      "outputs": [
        {
          "output_type": "stream",
          "name": "stdout",
          "text": [
            "Combined list: [1, 2, 3, 4, 5, 6]\n"
          ]
        }
      ]
    },
    {
      "cell_type": "markdown",
      "source": [
        "10.\tList Methods:\n",
        "•\tCreate a list of fruits.\n",
        "•\tUse the append() method to add a new fruit to the list.\n",
        "•\tUse the pop() method to remove the last fruit from the list.\n"
      ],
      "metadata": {
        "id": "xnisK8N76lbP"
      }
    },
    {
      "cell_type": "code",
      "source": [
        "# List Methods\n",
        "fruits = [\"apple\", \"banana\", \"orange\"]\n",
        "fruits.append(\"grape\")\n",
        "print(\"Updated fruits:\", fruits)\n",
        "fruits.pop()\n",
        "print(\"After popping:\", fruits)\n"
      ],
      "metadata": {
        "colab": {
          "base_uri": "https://localhost:8080/"
        },
        "id": "u5boovX-5HXR",
        "outputId": "6d83ccf2-a854-48de-db99-91917c86d65a"
      },
      "execution_count": 11,
      "outputs": [
        {
          "output_type": "stream",
          "name": "stdout",
          "text": [
            "Updated fruits: ['apple', 'banana', 'orange', 'grape']\n",
            "After popping: ['apple', 'banana', 'orange']\n"
          ]
        }
      ]
    },
    {
      "cell_type": "markdown",
      "source": [
        "11.\tCombining Lists and List Comprehension:\n",
        "\n",
        "•\tCreate two lists, one containing numbers from 1 to 5 and another containing numbers from 6 to 10.\n",
        "•\tUse list comprehension to create a new list that contains the sum of corresponding elements from the two lists.\n"
      ],
      "metadata": {
        "id": "_x2uPZh96n9q"
      }
    },
    {
      "cell_type": "code",
      "source": [
        "# Combining Lists and List Comprehension\n",
        "list1 = [1, 2, 3, 4, 5]\n",
        "list2 = [6, 7, 8, 9, 10]\n",
        "sum_list = [x + y for x, y in zip(list1, list2)]\n",
        "print(\"Sum list:\", sum_list)\n"
      ],
      "metadata": {
        "colab": {
          "base_uri": "https://localhost:8080/"
        },
        "id": "u6yFwHrw5Lka",
        "outputId": "bb695fcd-5dfe-4830-f009-0d734772654b"
      },
      "execution_count": 12,
      "outputs": [
        {
          "output_type": "stream",
          "name": "stdout",
          "text": [
            "Sum list: [7, 9, 11, 13, 15]\n"
          ]
        }
      ]
    },
    {
      "cell_type": "markdown",
      "source": [
        "12.\tFiltering and Sorting:\n",
        "Create a list of numbers.\n",
        "•\tUse list comprehension to create a new list containing only the even numbers from the original list.\n",
        "•\tSort the new list in descending order.\n"
      ],
      "metadata": {
        "id": "CxutJT_06s0Q"
      }
    },
    {
      "cell_type": "code",
      "source": [
        "# Filtering and Sorting\n",
        "numbers = [3, 6, 2, 8, 5, 9, 4, 7]\n",
        "even_numbers = [num for num in numbers if num % 2 == 0]\n",
        "even_numbers.sort(reverse=True)\n",
        "print(\"Sorted even numbers:\", even_numbers)\n"
      ],
      "metadata": {
        "colab": {
          "base_uri": "https://localhost:8080/"
        },
        "id": "SZMNKMEO5Pr8",
        "outputId": "eacd3bdf-71b8-4cd7-cfe6-9a0e9b824268"
      },
      "execution_count": 13,
      "outputs": [
        {
          "output_type": "stream",
          "name": "stdout",
          "text": [
            "Sorted even numbers: [8, 6, 4, 2]\n"
          ]
        }
      ]
    },
    {
      "cell_type": "markdown",
      "source": [
        "13.\tList Slicing and Reversing:\n",
        "•\tCreate a list of numbers from 1 to 10.\n",
        "•\tUse list slicing to create a new list containing only the even numbers from the original list, in reverse order.\n"
      ],
      "metadata": {
        "id": "r-_ce0PZ6xS4"
      }
    },
    {
      "cell_type": "code",
      "source": [
        "# List Slicing and Reversing\n",
        "numbers = list(range(1, 11))\n",
        "even_reverse = numbers[-2::-2]\n",
        "print(\"Even numbers in reverse:\", even_reverse)\n"
      ],
      "metadata": {
        "colab": {
          "base_uri": "https://localhost:8080/"
        },
        "id": "NQsudty45Sud",
        "outputId": "9d3a55b2-87e1-49c0-8596-05d773c68bd1"
      },
      "execution_count": 14,
      "outputs": [
        {
          "output_type": "stream",
          "name": "stdout",
          "text": [
            "Even numbers in reverse: [9, 7, 5, 3, 1]\n"
          ]
        }
      ]
    },
    {
      "cell_type": "markdown",
      "source": [
        "14.\tCombining Lists and List Methods:\n",
        "•\tCreate two lists, one containing even numbers and another containing odd numbers.\n",
        "•\tUse list methods to combine the two lists into a single list, alternating between even and odd numbers.\n"
      ],
      "metadata": {
        "id": "Yx6FDW7l60IC"
      }
    },
    {
      "cell_type": "code",
      "source": [
        "even_numbers = [2, 4, 6, 8, 10]\n",
        "odd_numbers = [1, 3, 5, 7, 9]\n",
        "combined_list = []\n",
        "for even, odd in zip(even_numbers, odd_numbers):\n",
        "    combined_list.append(even)\n",
        "    combined_list.append(odd)\n",
        "print(\"Combined list:\", combined_list)"
      ],
      "metadata": {
        "colab": {
          "base_uri": "https://localhost:8080/"
        },
        "id": "IA1mxwf65T0C",
        "outputId": "c70ca291-9904-4376-ca39-a872b6a13dcc"
      },
      "execution_count": 16,
      "outputs": [
        {
          "output_type": "stream",
          "name": "stdout",
          "text": [
            "Combined list: [2, 1, 4, 3, 6, 5, 8, 7, 10, 9]\n"
          ]
        }
      ]
    }
  ]
}
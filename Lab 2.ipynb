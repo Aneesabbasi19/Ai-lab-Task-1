{
  "nbformat": 4,
  "nbformat_minor": 0,
  "metadata": {
    "colab": {
      "provenance": []
    },
    "kernelspec": {
      "name": "python3",
      "display_name": "Python 3"
    },
    "language_info": {
      "name": "python"
    }
  },
  "cells": [
    {
      "cell_type": "code",
      "execution_count": null,
      "metadata": {
        "colab": {
          "base_uri": "https://localhost:8080/",
          "height": 108
        },
        "id": "zMha_j3GvxwE",
        "outputId": "d636c36f-4326-4c82-e388-c94376b5af62"
      },
      "outputs": [
        {
          "output_type": "error",
          "ename": "SyntaxError",
          "evalue": "unterminated string literal (detected at line 92) (<ipython-input-1-2706c2de3984>, line 92)",
          "traceback": [
            "\u001b[0;36m  File \u001b[0;32m\"<ipython-input-1-2706c2de3984>\"\u001b[0;36m, line \u001b[0;32m92\u001b[0m\n\u001b[0;31m    print(f\"The final amount after applying a {discount*100}% discount is\u001b[0m\n\u001b[0m          ^\u001b[0m\n\u001b[0;31mSyntaxError\u001b[0m\u001b[0;31m:\u001b[0m unterminated string literal (detected at line 92)\n"
          ]
        }
      ],
      "source": [
        "#Task 1\n",
        "\n",
        "#Task 2\n",
        "# Integer variable\n",
        "integer_var = 10\n",
        "# Floating-point variable\n",
        "float_var = 3.14\n",
        "# String variable\n",
        "string_var = \"Hello, world!\"\n",
        "# Boolean variable\n",
        "bool_var = True\n",
        "\n",
        "\n",
        "#Task 3 Valid Variables\n",
        "my_var = 10\n",
        "user_age = 25\n",
        "first_name = \"John\"\n",
        "is_valid = True\n",
        "total_count = 100\n",
        "\n",
        "\n",
        "#Task 4\n",
        "# Single variable with multiple values\n",
        "x = y = z = 10, 20, 30\n",
        "a, b, c = 1, 2, 3\n",
        "# Multiple variables with single values\n",
        "name, age, country = \"John\", 25, \"USA\"\n",
        "city, population, area = \"Tokyo\", 37400068, 218\n",
        "\n",
        "#Task 5\n",
        "#Integer arithmetic operations\n",
        "integer_a = 10\n",
        "integer_b = 5\n",
        "# Addition\n",
        "addition_result = integer_a + integer_b\n",
        "print(\"Addition result:\", addition_result) # Output: 15\n",
        "# Subtraction\n",
        "subtraction_result = integer_a - integer_b\n",
        "print(\"Subtraction result:\", subtraction_result) # Output: 5\n",
        "# Multiplication\n",
        "multiplication_result = integer_a * integer_b\n",
        "print(\"Multiplication result:\", multiplication_result) # Output: 50\n",
        "# Division\n",
        "division_result = integer_a / integer_b\n",
        "print(\"Division result:\", division_result) # Output: 2.0\n",
        "\n",
        "#Floating-point arithmetic operations\n",
        "float_a = 7.5\n",
        "float_b = 2.5\n",
        "# Addition\n",
        "float_addition_result = float_a + float_b\n",
        "print(\"Float addition result:\", float_addition_result) # Output: 10.0\n",
        "# Subtraction\n",
        "float_subtraction_result = float_a - float_b\n",
        "print(\"Float subtraction result:\", float_subtraction_result) # Output: 5.0\n",
        "# Multiplication\n",
        "float_multiplication_result = float_a * float_b\n",
        "print(\"Float multiplication result:\", float_multiplication_result) # Output:\n",
        "18.75\n",
        "# Division\n",
        "float_division_result = float_a / float_b\n",
        "print(\"Float division result:\", float_division_result) # Output: 3.0\n",
        "\n",
        "#Task 6\n",
        "# Using single quotes\n",
        "single_quoted_string = 'This is a string created with single quotes.'\n",
        "print(single_quoted_string)\n",
        "# Using double quotes\n",
        "double_quoted_string = \"This is a string created with double quotes.\"\n",
        "print(double_quoted_string)\n",
        "# Using double quotes when the string contains a single quote\n",
        "string_with_single_quote = \"He said, 'Hello!'\"\n",
        "print(string_with_single_quote)\n",
        "# Using single quotes when the string contains double quote\n",
        "string_with_double_quote = 'She exclaimed, \"Wow!\"'\n",
        "print(string_with_double_quote)\n",
        "\n",
        "#Task 7\n",
        "x = \"Python\"\n",
        "y = \"is\"\n",
        "z = \"awesome\"\n",
        "print(x ,y ,z)\n",
        "# in this comma the is spaxe between string\n",
        "\n",
        "\n",
        "int =12\n",
        "float= 10.1;\n",
        "str=\"rafay\"\n",
        "print(int,float,str)\n"
      ]
    },
    {
      "cell_type": "code",
      "source": [],
      "metadata": {
        "id": "mKzc2Ori-pBc"
      },
      "execution_count": null,
      "outputs": []
    }
  ]
}
{
  "nbformat": 4,
  "nbformat_minor": 0,
  "metadata": {
    "colab": {
      "provenance": [],
      "authorship_tag": "ABX9TyPcEz1MDiCFkHfQ9W5AcZAz",
      "include_colab_link": true
    },
    "kernelspec": {
      "name": "python3",
      "display_name": "Python 3"
    },
    "language_info": {
      "name": "python"
    }
  },
  "cells": [
    {
      "cell_type": "markdown",
      "metadata": {
        "id": "view-in-github",
        "colab_type": "text"
      },
      "source": [
        "<a href=\"https://colab.research.google.com/github/Aneesabbasi19/Ai-lab-Task-1/blob/main/Untitled0.ipynb\" target=\"_parent\"><img src=\"https://colab.research.google.com/assets/colab-badge.svg\" alt=\"Open In Colab\"/></a>"
      ]
    },
    {
      "cell_type": "markdown",
      "source": [
        "Task 1:\n",
        "Differentiate between assignment operator and equality operator."
      ],
      "metadata": {
        "id": "r1RJvodBCH1x"
      }
    },
    {
      "cell_type": "markdown",
      "source": [
        "**Answer:**\n",
        "\n",
        "The assignment operator (=) and the equality operator (==) are two fundamental operators used in programming languages, especially in languages like C, C++, Java, Python, and\n",
        "others.\n",
        "\n",
        "---\n",
        "\n",
        "\n",
        "**Assignment operator:**\n",
        "• The assignment operator is used to assign a value to a variable.\n",
        "• It's a binary operator, taking a variable on the left and an expression on the right.\n",
        "Example: x = 5; assigns the value 5 to the variable x.\n",
        "\n",
        "---\n",
        "\n",
        "\n",
        "**Equality operator:**\n",
        "• The equality operator is used to compare two values to see if they are equal.\n",
        "• It returns true if the values on both sides are equal; otherwise, it returns false.\n",
        "Example: if (x == 5) checks if the value of x is equal to 5.\n",
        "\n",
        "---\n",
        "\n"
      ],
      "metadata": {
        "id": "Ze84X6QjCuBy"
      }
    },
    {
      "cell_type": "markdown",
      "source": [
        "Task 2:\n",
        "Explore all kinds /data types of variables. And write code for each datatype.\n",
        " Integer variable\n",
        " Floating-point variable\n",
        " String variable\n",
        " Boolean variable"
      ],
      "metadata": {
        "id": "HJiJ0LTFDIxh"
      }
    },
    {
      "cell_type": "code",
      "execution_count": 3,
      "metadata": {
        "id": "zMha_j3GvxwE"
      },
      "outputs": [],
      "source": [
        "# Integer variable\n",
        "integer_var = 10\n",
        "# Floating-point variable\n",
        "float_var = 3.14\n",
        "# String variable\n",
        "string_var = \"Hello, world!\"\n",
        "# Boolean variable\n",
        "bool_var = True\n"
      ]
    },
    {
      "cell_type": "markdown",
      "source": [
        "Task 3:\n",
        "Explain the rules for variables name and use different variables name including special characters, numbers etc."
      ],
      "metadata": {
        "id": "4i5vfvnqD4UW"
      }
    },
    {
      "cell_type": "markdown",
      "source": [
        "**Allowed characters:**\n",
        "Variable names can typically include letters (both uppercase and lowercase), digits,\n",
        "and underscores. However, the first character of a variable name cannot be a digit.\n",
        "\n",
        "---\n",
        "\n",
        "\n",
        "**Case sensitivity:**\n",
        "Variable names are usually case-sensitive, meaning myVar and myvar would be\n",
        "considered as two different variables.\n",
        "\n",
        "---\n",
        "\n",
        "\n",
        "**Reserved keywords:**\n",
        "Variable names cannot be the same as reserved keywords or identifiers in the\n",
        "programming language. For example: you cannot use if, for, while, etc as variable\n",
        "names.\n",
        "\n",
        "---\n",
        "\n"
      ],
      "metadata": {
        "id": "3SZ-kvJJERc0"
      }
    },
    {
      "cell_type": "markdown",
      "source": [
        "Task 4:\n",
        "Declare and initialize multiple variables in a single line. Single variable with multiple values,\n",
        "multiple variables with single values. Each having at least two examples."
      ],
      "metadata": {
        "id": "ne2-4VtTEGRI"
      }
    },
    {
      "cell_type": "code",
      "source": [
        "# Single variable with multiple values\n",
        "x = y = z = 10, 20, 30\n",
        "a, b, c = 1, 2, 3\n",
        "# Multiple variables with single values\n",
        "name, age, country = \"John\", 25, \"USA\"\n",
        "city, population, area = \"Tokyo\", 37400068, 218"
      ],
      "metadata": {
        "id": "vYEfmEaOEM7l"
      },
      "execution_count": null,
      "outputs": []
    },
    {
      "cell_type": "markdown",
      "source": [
        "Task 5:\n",
        "Perform arithmetic operations on integers and floating-point numbers.\n",
        " Adding, Subtracting, Multiplication and dividing two integer variables.\n",
        " Adding, Subtracting, Multiplication and dividing floating-point variables."
      ],
      "metadata": {
        "id": "sOWjzAvzEmeU"
      }
    },
    {
      "cell_type": "code",
      "source": [
        "#Task 5\n",
        "#Integer arithmetic operations\n",
        "integer_a = 10\n",
        "integer_b = 5\n",
        "# Addition\n",
        "addition_result = integer_a + integer_b\n",
        "print(\"Addition result:\", addition_result) # Output: 15\n",
        "# Subtraction\n",
        "subtraction_result = integer_a - integer_b\n",
        "print(\"Subtraction result:\", subtraction_result) # Output: 5\n",
        "# Multiplication\n",
        "multiplication_result = integer_a * integer_b\n",
        "print(\"Multiplication result:\", multiplication_result) # Output: 50\n",
        "# Division\n",
        "division_result = integer_a / integer_b\n",
        "print(\"Division result:\", division_result) # Output: 2.0\n",
        "\n",
        "#Floating-point arithmetic operations\n",
        "float_a = 7.5\n",
        "float_b = 2.5\n",
        "# Addition\n",
        "float_addition_result = float_a + float_b\n",
        "print(\"Float addition result:\", float_addition_result) # Output: 10.0\n",
        "# Subtraction\n",
        "float_subtraction_result = float_a - float_b\n",
        "print(\"Float subtraction result:\", float_subtraction_result) # Output: 5.0\n",
        "# Multiplication\n",
        "float_multiplication_result = float_a * float_b\n",
        "print(\"Float multiplication result:\", float_multiplication_result) # Output:\n",
        "18.75\n",
        "# Division\n",
        "float_division_result = float_a / float_b\n",
        "print(\"Float division result:\", float_division_result) # Output: 3.0\n"
      ],
      "metadata": {
        "id": "B5pxRgvWEsKN"
      },
      "execution_count": null,
      "outputs": []
    },
    {
      "cell_type": "markdown",
      "source": [
        "Task 6:\n",
        "A string literal is a sequence of characters enclosed in quotes. In Python, we can use either\n",
        "single\n",
        "quotes (‘…’) or double quotes (“…”) to create a string.\n",
        " Using single quotes\n",
        " Using double quotes\n",
        " Using double quotes when the string contains a single quote\n",
        " Using single quotes when the string contains double quote"
      ],
      "metadata": {
        "id": "ahLWB92yEvPt"
      }
    },
    {
      "cell_type": "code",
      "source": [
        "#Task 6\n",
        "# Using single quotes\n",
        "single_quoted_string = 'This is a string created with single quotes.'\n",
        "print(single_quoted_string)\n",
        "# Using double quotes\n",
        "double_quoted_string = \"This is a string created with double quotes.\"\n",
        "print(double_quoted_string)\n",
        "# Using double quotes when the string contains a single quote\n",
        "string_with_single_quote = \"He said, 'Hello!'\"\n",
        "print(string_with_single_quote)\n",
        "# Using single quotes when the string contains double quote\n",
        "string_with_double_quote = 'She exclaimed, \"Wow!\"'\n",
        "print(string_with_double_quote)"
      ],
      "metadata": {
        "id": "X3RPTuJjExJl"
      },
      "execution_count": null,
      "outputs": []
    },
    {
      "cell_type": "markdown",
      "source": [
        "Task 7:\n",
        "The print() function is a built-in function in Python that allows you to output variables and\n",
        "other\n",
        "data to the console.\n",
        " Example of using the print() function to output a variable\n",
        " Example of outputting multiple variables with print()\n",
        " Example of using f-strings to format output\n",
        " Example of using f-strings to manipulate variables in output"
      ],
      "metadata": {
        "id": "KMsGcmomEyae"
      }
    },
    {
      "cell_type": "code",
      "source": [
        "#Task 7\n",
        "x = \"Python\"\n",
        "y = \"is\"\n",
        "z = \"awesome\"\n",
        "print(x ,y ,z)\n",
        "# in this comma the is spaxe between string\n",
        "\n",
        "\n",
        "int =12\n",
        "float= 10.1;\n",
        "str=\"rafay\"\n",
        "print(int,float,str)\n"
      ],
      "metadata": {
        "id": "xtV67slxE0IF"
      },
      "execution_count": null,
      "outputs": []
    }
  ]
}